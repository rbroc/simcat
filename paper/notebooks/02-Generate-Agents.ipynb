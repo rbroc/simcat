{
 "cells": [
  {
   "cell_type": "markdown",
   "metadata": {},
   "source": [
    "# Create agent populations\n",
    "In this notebook, we will create agent populations with increasingly large distance from the original agent.\n",
    "We will proceed to doing this as follows:\n",
    "1. To induce diversity from the original agent, we shuffle the position of words in semantics spaces. We could have added noise to the coordinates, but we are interested in keeping the performance of individual agents constant, and adding parametric noise to the coordinates will alter the topology of the space, which changes performance patterns;\n",
    "2. To induce *increasingly high* levels of diversity, we will define a range of *shuffling thresholds*, and only shuffle animals whose distance is lower than that shuffling thresholds;\n",
    "3. We will then set the population which is least different from the original agent as the reference population and compute pairwise distances between agents in this population, and agents in increasingly different populations;\n",
    "4. On the basis of this, we will estimate 20 *new* shuffling thresholds, to yield new populations whose average distance from the original space is linearly increasing;\n",
    "5. Finally, we will sample 100 pairs of agents for each population, such that one of the agents belongs to the reference population, and the other to the population at stake;\n",
    "6. This will yield 20 groups of agents whose distance from the reference population increases linearly. This are what we call \"diversity levels\".\n",
    "\n",
    "Let's do this step by step."
   ]
  },
  {
   "cell_type": "code",
   "execution_count": 5,
   "metadata": {},
   "outputs": [],
   "source": [
    "import glob\n",
    "from simcat.utils import compute_thresholds\n",
    "from simcat.agents import Agent\n",
    "import itertools\n",
    "from sklearn.metrics.pairwise import euclidean_distances\n",
    "from sklearn.preprocessing import MinMaxScaler\n",
    "from scipy.optimize import curve_fit\n",
    "import pandas as pd\n",
    "import seaborn as sns\n",
    "from matplotlib import pyplot as plt\n",
    "import numpy as np\n",
    "from multiprocessing import Pool\n",
    "from sklearn import decomposition\n",
    "from pathlib import Path\n",
    "import json"
   ]
  },
  {
   "cell_type": "markdown",
   "metadata": {},
   "source": [
    "### Preprocessing"
   ]
  },
  {
   "cell_type": "markdown",
   "metadata": {},
   "source": [
    "First, let's define some hyperparameters and useful variables."
   ]
  },
  {
   "cell_type": "code",
   "execution_count": 3,
   "metadata": {},
   "outputs": [],
   "source": [
    "nr_init_shuffling_thresholds = 15\n",
    "pop_size = 100\n",
    "ID = \"experiments\""
   ]
  },
  {
   "cell_type": "markdown",
   "metadata": {},
   "source": [
    "Get animal names, distance thresholds, and mapping between animals and positional index for each animal"
   ]
  },
  {
   "cell_type": "code",
   "execution_count": 8,
   "metadata": {},
   "outputs": [],
   "source": [
    "models = [f\"../models/baseline/wiki_euclidean_distance.tsv\"]\n",
    "animals = pd.read_csv(f\"../models/animal_list.csv\")\n",
    "thresholds = compute_thresholds(\n",
    "    models, q=[round(n, 2) for n in np.arange(0.05, 1.0, 0.05)], round_at=5\n",
    ")\n",
    "animals_idx_dict = json.load(open(f\"../models/baseline/wiki_mapping.json\"))"
   ]
  },
  {
   "cell_type": "markdown",
   "metadata": {},
   "source": [
    "Import the vector space and the original distance matrix"
   ]
  },
  {
   "cell_type": "code",
   "execution_count": 9,
   "metadata": {},
   "outputs": [],
   "source": [
    "vecs_scaled = pd.read_csv(\n",
    "    f\"../models/baseline/wiki_vectors_scaled.tsv\", sep=\"\\t\", index_col=0\n",
    ").values\n",
    "dists = pd.read_csv(models[0], sep=\"\\t\", index_col=0)\n",
    "dists.values[np.tril_indices(dists.values.shape[0], 0)] = np.nan"
   ]
  },
  {
   "cell_type": "markdown",
   "metadata": {},
   "source": [
    "Now we transform the distacne matrix into a long-form dataframe, we bin the distance values based on linearly-spaced values, and we check how many pairs of animals we would shuffle if we used these."
   ]
  },
  {
   "cell_type": "code",
   "execution_count": 5,
   "metadata": {},
   "outputs": [],
   "source": [
    "long_dists = pd.melt(dists.reset_index(), id_vars=\"index\").dropna()\n",
    "long_dists.columns = [\"animal_1\", \"animal_2\", \"distance\"]\n",
    "long_dists[\"distance_bins\"] = pd.cut(\n",
    "    long_dists.distance,\n",
    "    nr_init_shuffling_thresholds,\n",
    "    labels=range(nr_init_shuffling_thresholds),\n",
    ").astype(float)\n",
    "long_dists[\"distance_qbins\"] = pd.qcut(\n",
    "    long_dists.distance,\n",
    "    nr_init_shuffling_thresholds,\n",
    "    labels=range(nr_init_shuffling_thresholds),\n",
    ").astype(float)"
   ]
  },
  {
   "cell_type": "code",
   "execution_count": 6,
   "metadata": {},
   "outputs": [],
   "source": [
    "categories = pd.cut(\n",
    "    long_dists.distance,\n",
    "    nr_init_shuffling_thresholds,\n",
    "    retbins=True,\n",
    "    labels=range(nr_init_shuffling_thresholds),\n",
    ")[1]"
   ]
  },
  {
   "cell_type": "code",
   "execution_count": 7,
   "metadata": {},
   "outputs": [
    {
     "data": {
      "text/html": [
       "<div>\n",
       "<style scoped>\n",
       "    .dataframe tbody tr th:only-of-type {\n",
       "        vertical-align: middle;\n",
       "    }\n",
       "\n",
       "    .dataframe tbody tr th {\n",
       "        vertical-align: top;\n",
       "    }\n",
       "\n",
       "    .dataframe thead th {\n",
       "        text-align: right;\n",
       "    }\n",
       "</style>\n",
       "<table border=\"1\" class=\"dataframe\">\n",
       "  <thead>\n",
       "    <tr style=\"text-align: right;\">\n",
       "      <th></th>\n",
       "      <th>animal_1</th>\n",
       "      <th>animal_2</th>\n",
       "      <th>distance</th>\n",
       "      <th>distance_qbins</th>\n",
       "    </tr>\n",
       "    <tr>\n",
       "      <th>distance_bins</th>\n",
       "      <th></th>\n",
       "      <th></th>\n",
       "      <th></th>\n",
       "      <th></th>\n",
       "    </tr>\n",
       "  </thead>\n",
       "  <tbody>\n",
       "    <tr>\n",
       "      <th>0.0</th>\n",
       "      <td>10</td>\n",
       "      <td>10</td>\n",
       "      <td>10</td>\n",
       "      <td>10</td>\n",
       "    </tr>\n",
       "    <tr>\n",
       "      <th>1.0</th>\n",
       "      <td>15</td>\n",
       "      <td>15</td>\n",
       "      <td>15</td>\n",
       "      <td>15</td>\n",
       "    </tr>\n",
       "    <tr>\n",
       "      <th>2.0</th>\n",
       "      <td>43</td>\n",
       "      <td>43</td>\n",
       "      <td>43</td>\n",
       "      <td>43</td>\n",
       "    </tr>\n",
       "    <tr>\n",
       "      <th>3.0</th>\n",
       "      <td>100</td>\n",
       "      <td>100</td>\n",
       "      <td>100</td>\n",
       "      <td>100</td>\n",
       "    </tr>\n",
       "    <tr>\n",
       "      <th>4.0</th>\n",
       "      <td>295</td>\n",
       "      <td>295</td>\n",
       "      <td>295</td>\n",
       "      <td>295</td>\n",
       "    </tr>\n",
       "    <tr>\n",
       "      <th>5.0</th>\n",
       "      <td>859</td>\n",
       "      <td>859</td>\n",
       "      <td>859</td>\n",
       "      <td>859</td>\n",
       "    </tr>\n",
       "    <tr>\n",
       "      <th>6.0</th>\n",
       "      <td>1814</td>\n",
       "      <td>1814</td>\n",
       "      <td>1814</td>\n",
       "      <td>1814</td>\n",
       "    </tr>\n",
       "    <tr>\n",
       "      <th>7.0</th>\n",
       "      <td>3679</td>\n",
       "      <td>3679</td>\n",
       "      <td>3679</td>\n",
       "      <td>3679</td>\n",
       "    </tr>\n",
       "    <tr>\n",
       "      <th>8.0</th>\n",
       "      <td>5734</td>\n",
       "      <td>5734</td>\n",
       "      <td>5734</td>\n",
       "      <td>5734</td>\n",
       "    </tr>\n",
       "    <tr>\n",
       "      <th>9.0</th>\n",
       "      <td>6860</td>\n",
       "      <td>6860</td>\n",
       "      <td>6860</td>\n",
       "      <td>6860</td>\n",
       "    </tr>\n",
       "    <tr>\n",
       "      <th>10.0</th>\n",
       "      <td>5890</td>\n",
       "      <td>5890</td>\n",
       "      <td>5890</td>\n",
       "      <td>5890</td>\n",
       "    </tr>\n",
       "    <tr>\n",
       "      <th>11.0</th>\n",
       "      <td>2670</td>\n",
       "      <td>2670</td>\n",
       "      <td>2670</td>\n",
       "      <td>2670</td>\n",
       "    </tr>\n",
       "    <tr>\n",
       "      <th>12.0</th>\n",
       "      <td>648</td>\n",
       "      <td>648</td>\n",
       "      <td>648</td>\n",
       "      <td>648</td>\n",
       "    </tr>\n",
       "    <tr>\n",
       "      <th>13.0</th>\n",
       "      <td>61</td>\n",
       "      <td>61</td>\n",
       "      <td>61</td>\n",
       "      <td>61</td>\n",
       "    </tr>\n",
       "    <tr>\n",
       "      <th>14.0</th>\n",
       "      <td>2</td>\n",
       "      <td>2</td>\n",
       "      <td>2</td>\n",
       "      <td>2</td>\n",
       "    </tr>\n",
       "  </tbody>\n",
       "</table>\n",
       "</div>"
      ],
      "text/plain": [
       "               animal_1  animal_2  distance  distance_qbins\n",
       "distance_bins                                              \n",
       "0.0                  10        10        10              10\n",
       "1.0                  15        15        15              15\n",
       "2.0                  43        43        43              43\n",
       "3.0                 100       100       100             100\n",
       "4.0                 295       295       295             295\n",
       "5.0                 859       859       859             859\n",
       "6.0                1814      1814      1814            1814\n",
       "7.0                3679      3679      3679            3679\n",
       "8.0                5734      5734      5734            5734\n",
       "9.0                6860      6860      6860            6860\n",
       "10.0               5890      5890      5890            5890\n",
       "11.0               2670      2670      2670            2670\n",
       "12.0                648       648       648             648\n",
       "13.0                 61        61        61              61\n",
       "14.0                  2         2         2               2"
      ]
     },
     "execution_count": 7,
     "metadata": {},
     "output_type": "execute_result"
    }
   ],
   "source": [
    "long_dists.groupby(\"distance_bins\").count()"
   ]
  },
  {
   "cell_type": "code",
   "execution_count": 8,
   "metadata": {},
   "outputs": [
    {
     "data": {
      "image/png": "[encoded data removed]",
      "text/plain": [
       "<Figure size 720x216 with 1 Axes>"
      ]
     },
     "metadata": {
      "needs_background": "light"
     },
     "output_type": "display_data"
    }
   ],
   "source": [
    "fig, ax = plt.subplots(figsize=(10, 3))\n",
    "for idx, c in enumerate(categories[1:]):\n",
    "    plt.axvline(c, linestyle=\"--\", color=\"darkgrey\")\n",
    "    plt.annotate(\n",
    "        f\"$s_{{{idx}}}$\",\n",
    "        xy=(c - 0.0002, 1900),\n",
    "        xycoords=\"data\",\n",
    "        rotation=90,\n",
    "        fontsize=10,\n",
    "    )\n",
    "sns.histplot(long_dists.distance)\n",
    "plt.ylim(0, 2100)\n",
    "plt.xlabel(\"Distance between vector pairs: $d(x,y)$\")\n",
    "plt.savefig(\"../figures/baseline_distance_dist.png\", dpi=300, bbox_inches=\"tight\")\n",
    "plt.show()"
   ]
  },
  {
   "cell_type": "markdown",
   "metadata": {},
   "source": [
    "Alright! Now we have an initial set of shuffling thresholds.\n",
    "Let's create output paths where we will store the noised agents, before we start instantiating new agents."
   ]
  },
  {
   "cell_type": "code",
   "execution_count": 8,
   "metadata": {},
   "outputs": [],
   "source": [
    "for p in [\"noised_vectors\", \"noised_distance_matrices\", \"mappings\"]:\n",
    "    opath = Path(\"..\") / \"models\" / \"noised_agents\" / p\n",
    "    opath.mkdir(parents=True, exist_ok=True)"
   ]
  },
  {
   "cell_type": "markdown",
   "metadata": {},
   "source": [
    "### Generate agents from initial thresholds\n",
    "Great, now we can use these shuffling thresholds to generate a range of agents.\n",
    "The population generated using the first shuffling threshold ($s_{0}$) will be set as the reference population.\n",
    "We will then pair agents from this population ($A_{0}$) with agents from all remaining populations ($A_{n}$), and compute the average Euclidean distance between each population $A_{n}$ and $A_{0}$.\n",
    "This will likely be non-linear, but it will give use a way to estimate the relation between shuffling thresholds and distances between agents, which we can then use to sample new shuffling thresholds yielding populations whose distances from the reference populations are linearly spaced.\n",
    "The reason why we want this is that we want to understand the effect of diversity on behavior by sampling the distribution of possible distances in an optimal way."
   ]
  },
  {
   "cell_type": "code",
   "execution_count": 9,
   "metadata": {},
   "outputs": [
    {
     "name": "stdout",
     "output_type": "stream",
     "text": [
      "Processing bin 1 of 15\n",
      "Processing bin 2 of 15\n",
      "Processing bin 3 of 15\n",
      "Processing bin 4 of 15\n",
      "Processing bin 5 of 15\n",
      "Processing bin 6 of 15\n",
      "Processing bin 7 of 15\n",
      "Processing bin 8 of 15\n",
      "Processing bin 9 of 15\n",
      "Processing bin 10 of 15\n",
      "Processing bin 11 of 15\n",
      "Processing bin 12 of 15\n",
      "Processing bin 13 of 15\n",
      "Processing bin 14 of 15\n",
      "Processing bin 15 of 15\n"
     ]
    }
   ],
   "source": [
    "noised_dists = []\n",
    "noised_vecs = []\n",
    "\n",
    "for b in range(nr_init_shuffling_thresholds):\n",
    "    print(f\"Processing bin {b+1} of {nr_init_shuffling_thresholds}\")\n",
    "\n",
    "    # pick animals who should be shuffled\n",
    "    bin_df = long_dists[(long_dists[\"distance_bins\"] <= b)]\n",
    "\n",
    "    for a_idx in range(pop_size):\n",
    "        # Get 70% of the pairs that can be shuffled\n",
    "        subthr_pairs = list(\n",
    "            bin_df.sample(frac=0.7)[[\"animal_1\", \"animal_2\"]].to_records(index=False)\n",
    "        )\n",
    "\n",
    "        # Identify new indices of each animal after shuffling is performed\n",
    "        idx_dict_copy = animals_idx_dict.copy()\n",
    "        for animal_1, animal_2 in subthr_pairs:\n",
    "            idx_1 = idx_dict_copy[animal_1]\n",
    "            idx_2 = idx_dict_copy[animal_2]\n",
    "            idx_dict_copy[animal_1] = idx_2\n",
    "            idx_dict_copy[animal_2] = idx_1\n",
    "        new_idx = dict(sorted(idx_dict_copy.items(), key=lambda item: item[1])).keys()\n",
    "\n",
    "        # Used calculated indices to modify the original vector space\n",
    "        fname = f\"{space}_{b}_{a_idx}.tsv\"\n",
    "        agent_vec_df = pd.DataFrame(vecs_scaled.copy())\n",
    "        agent_vec_df.index = new_idx\n",
    "        agent_vec_df = agent_vec_df.reindex(animals_idx_dict.keys())\n",
    "        noised_vecs.append((a_idx, b, agent_vec_df))\n",
    "\n",
    "        # Compute euclidean distances between pairs of animals in the new vector space\n",
    "        agent_dist = euclidean_distances(agent_vec_df.values, agent_vec_df.values) / 400\n",
    "        agent_dist_df = pd.DataFrame(agent_dist.round(5))\n",
    "        agent_dist_df.index = agent_vec_df.index\n",
    "        agent_dist_df.columns = agent_dist_df.index\n",
    "        noised_dists.append((a_idx, b, agent_dist_df))"
   ]
  },
  {
   "cell_type": "markdown",
   "metadata": {},
   "source": [
    "Now we compute pairwise distances between agents in the first population (which differs only minimally from the original population) and all other populations.\n",
    "We do so on all possible pairs of agents.\n",
    "\n",
    "Let's define a function that computes such distances. Note that the distance between two agents is defined as the average Euclidean distance between vectors corresponding to the same animals across the two spaces."
   ]
  },
  {
   "cell_type": "code",
   "execution_count": 10,
   "metadata": {
    "tags": []
   },
   "outputs": [],
   "source": [
    "def _compute_distance(pair):\n",
    "    \"\"\"Computes distance between pair of agents\"\"\"\n",
    "    distance = np.mean(np.sqrt(np.sum(np.square(pair[0][2] - pair[1][2]), axis=1)))\n",
    "    noise_level1 = pair[0][1]\n",
    "    noise_level2 = pair[1][1]\n",
    "    idx1 = pair[0][0]\n",
    "    idx2 = pair[1][0]\n",
    "    return (idx1, idx2, noise_level1, noise_level2, distance)"
   ]
  },
  {
   "cell_type": "markdown",
   "metadata": {},
   "source": [
    "Let's now use this function to compute distances between all pairs of agents.\n",
    "We use multiprocessing to speed up the process."
   ]
  },
  {
   "cell_type": "code",
   "execution_count": 11,
   "metadata": {},
   "outputs": [
    {
     "name": "stdout",
     "output_type": "stream",
     "text": [
      "Bin 0\n",
      "Bin 1\n",
      "Bin 2\n",
      "Bin 3\n",
      "Bin 4\n",
      "Bin 5\n",
      "Bin 6\n",
      "Bin 7\n",
      "Bin 8\n",
      "Bin 9\n",
      "Bin 10\n",
      "Bin 11\n",
      "Bin 12\n",
      "Bin 13\n",
      "Bin 14\n"
     ]
    }
   ],
   "source": [
    "pair_dists = {}\n",
    "for b in range(nr_init_shuffling_thresholds):\n",
    "    print(f\"Bin: {b}\")\n",
    "    ref_vecs = [nv for nv in noised_vecs if nv[1] == 0]\n",
    "    b_vecs = [nv for nv in noised_vecs if nv[1] == b]\n",
    "    b_combs = list(itertools.product(b_vecs, ref_vecs))\n",
    "    pool = Pool(processes=60)\n",
    "    b_dists = pool.map(_compute_distance, b_combs)\n",
    "    pair_dists[b] = b_dists\n",
    "    pool.close()"
   ]
  },
  {
   "cell_type": "markdown",
   "metadata": {},
   "source": [
    "Now, we compute an average of the distances for each population $A_{1:n}$."
   ]
  },
  {
   "cell_type": "code",
   "execution_count": 12,
   "metadata": {},
   "outputs": [],
   "source": [
    "dmeans = []\n",
    "for nl, vals in pair_dists.items():\n",
    "    dmeans.append(np.mean([v[-1] for v in vals]))"
   ]
  },
  {
   "cell_type": "markdown",
   "metadata": {},
   "source": [
    "Great, now we have a bunch of shuffling thresholds, and, for each of this, the value of the average distance between agents generated with thart shuffling threshold and agents in the reference populations. Let's model this as a generalized logistic function with an offset parameter. We use `curve_fit` from `scipy` to estimate the necessary parameters, and we then plot the function."
   ]
  },
  {
   "cell_type": "code",
   "execution_count": 22,
   "metadata": {},
   "outputs": [
    {
     "data": {
      "image/png": "[encoded data removed]",
      "text/plain": [
       "<Figure size 432x288 with 1 Axes>"
      ]
     },
     "metadata": {
      "needs_background": "light"
     },
     "output_type": "display_data"
    }
   ],
   "source": [
    "def logifunc(x, A, x0, k, off):\n",
    "    return A / (1 + np.exp(-k * (x - x0))) + off\n",
    "\n",
    "\n",
    "popt, pcov = curve_fit(logifunc, categories[1:], dmeans)\n",
    "plt.scatter(categories[1:], dmeans, label=\"Original sampled values\")\n",
    "plt.plot(\n",
    "    categories[1:],\n",
    "    logifunc(categories[1:], *popt),\n",
    "    \"-\",\n",
    "    label=\"Fitted function\",\n",
    "    alpha=0.5,\n",
    ")\n",
    "plt.xlabel(\"shuffling thresholds\", fontsize=14)\n",
    "plt.ylabel(\"average distance between $A_{s}$ and $A_{0}$\", fontsize=14)\n",
    "plt.legend(fontsize=14)\n",
    "plt.savefig(\"../figures/refitted_values.png\", dpi=300, bbox_inches=\"tight\")"
   ]
  },
  {
   "cell_type": "markdown",
   "metadata": {},
   "source": [
    "Now that we have estimated a function that yields average distances between $A_{0}$ and all other populations, given the shuffling thresholds, we can invert this function to get new shuffling thresholds. Let's do so."
   ]
  },
  {
   "cell_type": "code",
   "execution_count": 14,
   "metadata": {},
   "outputs": [],
   "source": [
    "def rev_logifunc(y, A, x0, k, off):\n",
    "    return x0 - (np.log(A / (y - off) - 1) / k)"
   ]
  },
  {
   "cell_type": "markdown",
   "metadata": {},
   "source": [
    "We then take linearly spaced values in distances, and estimate the corresponding shuffling thresholds."
   ]
  },
  {
   "cell_type": "code",
   "execution_count": 15,
   "metadata": {},
   "outputs": [],
   "source": [
    "A = popt[0]\n",
    "x0 = popt[1]\n",
    "k = popt[2]\n",
    "off = popt[3]\n",
    "agent_distances = np.linspace(np.min(dmeans) + 0.1, np.max(dmeans), num=20)\n",
    "animal_distances = [\n",
    "    rev_logifunc(y, A, x0, k, off) for y in list(agent_distances)\n",
    "]  # shuffling thresholds"
   ]
  },
  {
   "cell_type": "markdown",
   "metadata": {},
   "source": [
    "(Let's also print the parameters we estimated)"
   ]
  },
  {
   "cell_type": "code",
   "execution_count": 16,
   "metadata": {},
   "outputs": [
    {
     "data": {
      "text/plain": [
       "(5.008, 0.01, 1925.07, 0.07)"
      ]
     },
     "execution_count": 16,
     "metadata": {},
     "output_type": "execute_result"
    }
   ],
   "source": [
    "A.round(3), x0.round(2), k.round(2), off.round(2)"
   ]
  },
  {
   "cell_type": "markdown",
   "metadata": {},
   "source": [
    "And here are our resampled values!"
   ]
  },
  {
   "cell_type": "code",
   "execution_count": 23,
   "metadata": {},
   "outputs": [
    {
     "data": {
      "image/png": "[encoded data removed]",
      "text/plain": [
       "<Figure size 432x288 with 1 Axes>"
      ]
     },
     "metadata": {
      "needs_background": "light"
     },
     "output_type": "display_data"
    }
   ],
   "source": [
    "plt.scatter(animal_distances, agent_distances, label=\"New linearly spaced values\")\n",
    "plt.plot(\n",
    "    categories[1:],\n",
    "    logifunc(categories[1:], *popt),\n",
    "    \"-\",\n",
    "    label=\"Fitted function\",\n",
    "    alpha=0.5,\n",
    ")\n",
    "plt.xlabel(\"shuffling thresholds\", fontsize=14)\n",
    "plt.ylabel(\"average distance between $A_{s}$ and $A_{0}$\", fontsize=14)\n",
    "plt.legend(fontsize=14)\n",
    "plt.savefig(\"../figures/refitted_values_2.png\", dpi=300, bbox_inches=\"tight\")"
   ]
  },
  {
   "cell_type": "markdown",
   "metadata": {},
   "source": [
    "We can plot the relation between the rank of the distance value and the distance value itself to show that distances are indeed linear."
   ]
  },
  {
   "cell_type": "code",
   "execution_count": 18,
   "metadata": {},
   "outputs": [
    {
     "data": {
      "text/plain": [
       "<matplotlib.legend.Legend at 0x7f82012a0910>"
      ]
     },
     "execution_count": 18,
     "metadata": {},
     "output_type": "execute_result"
    },
    {
     "data": {
      "image/png": "[encoded data removed]",
      "text/plain": [
       "<Figure size 432x288 with 1 Axes>"
      ]
     },
     "metadata": {
      "needs_background": "light"
     },
     "output_type": "display_data"
    }
   ],
   "source": [
    "plt.scatter(\n",
    "    range(21), [categories[1]] + list(agent_distances), label=\"Linearized distance\"\n",
    ")\n",
    "plt.legend()"
   ]
  },
  {
   "cell_type": "markdown",
   "metadata": {},
   "source": [
    "### Generate final agent populations\n",
    "\n",
    "Great! Now we are ready to generate 20 agent populations, whose average distances from our reference population $A_{0}$ are linearly spaced. We use the same procedure we applied earlier, to generate the original populations."
   ]
  },
  {
   "cell_type": "code",
   "execution_count": 21,
   "metadata": {},
   "outputs": [
    {
     "name": "stdout",
     "output_type": "stream",
     "text": [
      "Processing bin 1 of 20\n",
      "Processing bin 2 of 20\n",
      "Processing bin 3 of 20\n",
      "Processing bin 4 of 20\n",
      "Processing bin 5 of 20\n",
      "Processing bin 6 of 20\n",
      "Processing bin 7 of 20\n",
      "Processing bin 8 of 20\n",
      "Processing bin 9 of 20\n",
      "Processing bin 10 of 20\n",
      "Processing bin 11 of 20\n",
      "Processing bin 12 of 20\n",
      "Processing bin 13 of 20\n",
      "Processing bin 14 of 20\n",
      "Processing bin 15 of 20\n",
      "Processing bin 16 of 20\n",
      "Processing bin 17 of 20\n",
      "Processing bin 18 of 20\n",
      "Processing bin 19 of 20\n",
      "Processing bin 20 of 20\n",
      "Processing bin 21 of 20\n"
     ]
    }
   ],
   "source": [
    "noised_dists = []\n",
    "noised_vecs = []\n",
    "\n",
    "for b, x in enumerate([categories[1]] + list(animal_distances)):  # for each threshold\n",
    "    print(f\"Processing bin {b+1} of {len(animal_distances)}\")\n",
    "    # find pairs that can be swapped\n",
    "    bin_df = long_dists[(long_dists[\"distance\"] <= x)]\n",
    "\n",
    "    for a_idx in range(pop_size):\n",
    "        # sample 70% of those\n",
    "        subthr_pairs = list(\n",
    "            bin_df.sample(frac=0.7)[[\"animal_1\", \"animal_2\"]].to_records(index=False)\n",
    "        )\n",
    "\n",
    "        idx_dict_copy = animals_idx_dict.copy()\n",
    "\n",
    "        # get new indices for all animals\n",
    "        for animal_1, animal_2 in subthr_pairs:\n",
    "            idx_1 = idx_dict_copy[animal_1]\n",
    "            idx_2 = idx_dict_copy[animal_2]\n",
    "            idx_dict_copy[animal_1] = idx_2\n",
    "            idx_dict_copy[animal_2] = idx_1\n",
    "        new_idx = dict(sorted(idx_dict_copy.items(), key=lambda item: item[1])).keys()\n",
    "\n",
    "        # save the resulting mapping between animals and their positional indices\n",
    "        fname = f\"{space}_{b}_{a_idx}\"\n",
    "        json.dump(\n",
    "            idx_dict_copy, open(f\"../models/noised_agents/mappings/{fname}.json\", \"w\")\n",
    "        )\n",
    "\n",
    "        # apply reindexing to vector spaces, to get new spaces (and save)\n",
    "        agent_vec_df = pd.DataFrame(vecs_scaled.copy())\n",
    "        agent_vec_df.index = new_idx\n",
    "        agent_vec_df = agent_vec_df.reindex(animals_idx_dict.keys())\n",
    "        agent_vec_df.to_csv(\n",
    "            f\"../models/noised_agents/noised_vectors/{fname}.tsv\", sep=\"\\t\"\n",
    "        )\n",
    "        noised_vecs.append((a_idx, b, agent_vec_df))\n",
    "\n",
    "        # compute euclidean distances on new vector spaces (and save)\n",
    "        agent_dist = euclidean_distances(agent_vec_df.values, agent_vec_df.values) / 400\n",
    "        agent_dist_df = pd.DataFrame(agent_dist.round(5))\n",
    "        agent_dist_df.index = agent_vec_df.index\n",
    "        agent_dist_df.columns = agent_dist_df.index\n",
    "        agent_dist_df.to_csv(\n",
    "            f\"../models/noised_agents/noised_distance_matrices/{fname}.tsv\", sep=\"\\t\"\n",
    "        )\n",
    "        noised_dists.append((a_idx, b, agent_dist_df))"
   ]
  },
  {
   "cell_type": "markdown",
   "metadata": {},
   "source": [
    "### Sample pairs of agents\n",
    "Now we are ready to create pairs that will play the VFT together!\n",
    "Let's first create a dictionary whose keys are the ranks of the shuffling thresholds ($1:20$) and the values store information about each possible pair of agents (where the first is drawn from $A_{0}$, the second from $A_{i}$, where $i$ is the shuffling threshold) and their distance."
   ]
  },
  {
   "cell_type": "code",
   "execution_count": 22,
   "metadata": {},
   "outputs": [
    {
     "name": "stdout",
     "output_type": "stream",
     "text": [
      "Bin 0\n",
      "Bin 1\n",
      "Bin 2\n",
      "Bin 3\n",
      "Bin 4\n",
      "Bin 5\n",
      "Bin 6\n",
      "Bin 7\n",
      "Bin 8\n",
      "Bin 9\n",
      "Bin 10\n",
      "Bin 11\n",
      "Bin 12\n",
      "Bin 13\n",
      "Bin 14\n",
      "Bin 15\n",
      "Bin 16\n",
      "Bin 17\n",
      "Bin 18\n",
      "Bin 19\n",
      "Bin 20\n"
     ]
    }
   ],
   "source": [
    "pair_dists = {}\n",
    "for b in range(21):\n",
    "    print(f\"Bin {b}\")\n",
    "    ref_vecs = [nv for nv in noised_vecs if nv[1] == 0]\n",
    "    b_vecs = [nv for nv in noised_vecs if nv[1] == b]\n",
    "    b_combs = list(itertools.product(b_vecs, ref_vecs))\n",
    "    pool = Pool(processes=60)\n",
    "    b_dists = pool.map(_compute_distance, b_combs)\n",
    "    pair_dists[b] = b_dists\n",
    "    pool.close()"
   ]
  },
  {
   "cell_type": "markdown",
   "metadata": {},
   "source": [
    "Now, based on the dictionary we have created earlies, let's sample `pop_size` agents for each population, yielding 20 groups including pairs of agents that operationalize out between-pair incremental diversity manipulation."
   ]
  },
  {
   "cell_type": "code",
   "execution_count": 23,
   "metadata": {},
   "outputs": [
    {
     "name": "stdout",
     "output_type": "stream",
     "text": [
      "10000\n",
      "10000\n",
      "10000\n",
      "10000\n",
      "10000\n",
      "10000\n",
      "10000\n",
      "10000\n",
      "10000\n",
      "10000\n",
      "10000\n",
      "10000\n",
      "10000\n",
      "10000\n",
      "10000\n",
      "10000\n",
      "10000\n",
      "10000\n",
      "10000\n",
      "10000\n",
      "10000\n"
     ]
    }
   ],
   "source": [
    "dist_dfs = []\n",
    "\n",
    "# Shape the dictionary ito a pandas df\n",
    "for idx, k in enumerate(pair_dists.keys()):\n",
    "    pair_dist_df = pd.DataFrame(\n",
    "        pair_dists[k],\n",
    "        columns=[\"idx1\", \"idx2\", \"noise_level1\", \"noise_level2\", \"distance\"],\n",
    "    )\n",
    "    for c in [\"idx1\", \"idx2\", \"noise_level1\", \"noise_level2\"]:\n",
    "        pair_dist_df[c] = pair_dist_df[c].astype(str)\n",
    "    print(pair_dist_df.shape[0])  # just checking that we have all agents in place\n",
    "    dist_dfs.append(pair_dist_df)\n",
    "pairs_dist_df = pd.concat(dist_dfs, ignore_index=True)\n",
    "\n",
    "# Add identifiers for each pair\n",
    "pairs_dist_df[\"fname_1\"] = (\n",
    "    \"wiki_\" + pairs_dist_df[\"noise_level1\"] + \"_\" + pairs_dist_df[\"idx1\"] + \".tsv\"\n",
    ")\n",
    "pairs_dist_df[\"fname_2\"] = (\n",
    "    \"wiki_\" + pairs_dist_df[\"noise_level2\"] + \"_\" + pairs_dist_df[\"idx2\"] + \".tsv\"\n",
    ")\n",
    "\n",
    "# Now sample pop_size pairs\n",
    "sampled_lst = []\n",
    "for idx, b in enumerate(range(21)):\n",
    "    b_sampled = pairs_dist_df[pairs_dist_df[\"noise_level1\"] == str(b)].sample(\n",
    "        n=pop_size\n",
    "    )\n",
    "    sampled_lst.append(b_sampled)\n",
    "sampled_all = pd.concat(sampled_lst, ignore_index=False)\n",
    "\n",
    "# Save information about sampled pairs!\n",
    "sampled_all.to_csv(f\"../models/noised_agents/sampled_pairs.tsv\", sep=\"\\t\")"
   ]
  },
  {
   "cell_type": "markdown",
   "metadata": {},
   "source": [
    "We are done! We have created agent populations for our experiments! :)"
   ]
  },
  {
   "cell_type": "markdown",
   "metadata": {},
   "source": []
  }
 ],
 "metadata": {
  "interpreter": {
   "hash": "31f2aee4e71d21fbe5cf8b01ff0e069b9275f58929596ceb00d14d90e3e16cd6"
  },
  "kernelspec": {
   "display_name": "tw-langmod",
   "language": "python",
   "name": "python3"
  },
  "language_info": {
   "codemirror_mode": {
    "name": "ipython",
    "version": 3
   },
   "file_extension": ".py",
   "mimetype": "text/x-python",
   "name": "python",
   "nbconvert_exporter": "python",
   "pygments_lexer": "ipython3",
   "version": "3.9.2"
  },
  "metadata": {
   "interpreter": {
    "hash": "ba954e04f94d5e4970321c570fb05eff7c202d9f1ab5b8ba406812668fc94516"
   }
  }
 },
 "nbformat": 4,
 "nbformat_minor": 4
}
